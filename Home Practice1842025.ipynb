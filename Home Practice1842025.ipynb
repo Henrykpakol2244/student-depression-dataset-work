{
 "cells": [
  {
   "cell_type": "markdown",
   "id": "ef795076-fc75-42d6-b5aa-26b617ee37b0",
   "metadata": {},
   "source": [
    "# Boolean Data types conditional and control structures"
   ]
  },
  {
   "cell_type": "code",
   "execution_count": null,
   "id": "9bb8a93e-ed0c-4037-b549-84f4e4302927",
   "metadata": {},
   "outputs": [],
   "source": [
    "True"
   ]
  },
  {
   "cell_type": "code",
   "execution_count": null,
   "id": "8c3ef68a-0116-411e-bf84-de9231986d19",
   "metadata": {},
   "outputs": [],
   "source": [
    "False"
   ]
  },
  {
   "cell_type": "code",
   "execution_count": null,
   "id": "857e15a9-41be-453e-95af-42406b0bffb6",
   "metadata": {},
   "outputs": [],
   "source": [
    "5<9"
   ]
  },
  {
   "cell_type": "code",
   "execution_count": null,
   "id": "59612985-340e-40da-8215-0c86e1f7b274",
   "metadata": {},
   "outputs": [],
   "source": [
    "5>9"
   ]
  },
  {
   "cell_type": "code",
   "execution_count": null,
   "id": "04253636-3b5a-4a99-b5d4-ec56747134af",
   "metadata": {},
   "outputs": [],
   "source": [
    "6>=6"
   ]
  },
  {
   "cell_type": "code",
   "execution_count": 1,
   "id": "c46ebc55-f996-4758-a694-c460368ac0a5",
   "metadata": {},
   "outputs": [
    {
     "data": {
      "text/plain": [
       "True"
      ]
     },
     "execution_count": 1,
     "metadata": {},
     "output_type": "execute_result"
    }
   ],
   "source": [
    "\"Henry\"==\"Henry\""
   ]
  },
  {
   "cell_type": "code",
   "execution_count": 2,
   "id": "db76b88a-dcbb-45d8-9527-503b5bb6cfff",
   "metadata": {},
   "outputs": [
    {
     "data": {
      "text/plain": [
       "False"
      ]
     },
     "execution_count": 2,
     "metadata": {},
     "output_type": "execute_result"
    }
   ],
   "source": [
    "\"Henry\">\"Henry\""
   ]
  },
  {
   "cell_type": "code",
   "execution_count": 3,
   "id": "83e384b4-952e-4ad9-bb65-dbcbbe9671a6",
   "metadata": {},
   "outputs": [],
   "source": [
    "Henry='Henry'"
   ]
  },
  {
   "cell_type": "code",
   "execution_count": 4,
   "id": "84c8106b-fc7a-4d6d-8dca-5486887f5cbd",
   "metadata": {},
   "outputs": [
    {
     "name": "stdin",
     "output_type": "stream",
     "text": [
      "Enter age: 2\n"
     ]
    },
    {
     "name": "stdout",
     "output_type": "stream",
     "text": [
      "False\n",
      "Gattat!!!\n"
     ]
    }
   ],
   "source": [
    "age =int(input(\"Enter age:\"))\n",
    "print(age>=18)\n",
    "if age>=18:\n",
    "    print(\"you're an adult\")\n",
    "else:\n",
    "    print(\"Gattat!!!\")"
   ]
  },
  {
   "cell_type": "code",
   "execution_count": 5,
   "id": "7e4c6ac9-d446-48af-8c3c-f3ca28deb5c2",
   "metadata": {},
   "outputs": [
    {
     "name": "stdin",
     "output_type": "stream",
     "text": [
      "Entr age: 2\n"
     ]
    },
    {
     "name": "stdout",
     "output_type": "stream",
     "text": [
      "False\n",
      "you're an adult\n",
      "Gattat!!!\n"
     ]
    }
   ],
   "source": [
    "age =int(input(\"Entr age:\"))\n",
    "print(age>=18)\n",
    "if age<18:\n",
    "    print(\"you're an adult\")\n",
    "if age<=18:\n",
    "    print(\"Gattat!!!\")"
   ]
  },
  {
   "cell_type": "code",
   "execution_count": 6,
   "id": "8d3556fa-5599-4e97-b4b2-d43a1cd79e1e",
   "metadata": {
    "scrolled": true
   },
   "outputs": [
    {
     "name": "stdin",
     "output_type": "stream",
     "text": [
      "Enter age: 25\n"
     ]
    },
    {
     "name": "stdout",
     "output_type": "stream",
     "text": [
      "You are an adult\n"
     ]
    }
   ],
   "source": [
    "age =int(input(\"Enter age:\"))\n",
    "if age>=18:\n",
    "    print(\"You are an adult\")"
   ]
  },
  {
   "cell_type": "code",
   "execution_count": 7,
   "id": "007a04b7-4e65-428a-af26-89080a67653b",
   "metadata": {},
   "outputs": [
    {
     "name": "stdin",
     "output_type": "stream",
     "text": [
      "Enter Score!! 88\n"
     ]
    },
    {
     "name": "stdout",
     "output_type": "stream",
     "text": [
      "See you in next class\n"
     ]
    }
   ],
   "source": [
    "score =int(input(\"Enter Score!!\"))\n",
    "if score<40:\n",
    "    print(\"Happy to see you next year!!\")\n",
    "else:\n",
    "    print(\"See you in next class\")"
   ]
  },
  {
   "cell_type": "code",
   "execution_count": 8,
   "id": "dba7b58e-54ca-46d9-87cb-aea5c5105e50",
   "metadata": {},
   "outputs": [
    {
     "name": "stdin",
     "output_type": "stream",
     "text": [
      "Enter Score!! 55\n"
     ]
    },
    {
     "name": "stdout",
     "output_type": "stream",
     "text": [
      "See you in next class\n"
     ]
    }
   ],
   "source": [
    "score =int(input(\"Enter Score!!\"))\n",
    "if score<40:\n",
    "    print(\"Happy to see you next year!!\")\n",
    "else:\n",
    "    print(\"See you in next class\")"
   ]
  },
  {
   "cell_type": "code",
   "execution_count": 9,
   "id": "95a4911e-8e12-450d-a63f-549893ac3bb2",
   "metadata": {},
   "outputs": [
    {
     "name": "stdin",
     "output_type": "stream",
     "text": [
      "Enter score: 78\n"
     ]
    },
    {
     "name": "stdout",
     "output_type": "stream",
     "text": [
      "you are promoted to the next class.\n"
     ]
    }
   ],
   "source": [
    "score =int(input(\"Enter score:\"))\n",
    "if score<40:\n",
    "    print(\"sorry you have to repeat this class\")\n",
    "elif score<=50:\n",
    "    print(\"you have to resit this exam\")\n",
    "else:\n",
    "    print(\"you are promoted to the next class.\")"
   ]
  },
  {
   "cell_type": "code",
   "execution_count": 10,
   "id": "adce51ce-30b8-446e-81cf-2ccd4f72da1f",
   "metadata": {},
   "outputs": [
    {
     "name": "stdout",
     "output_type": "stream",
     "text": [
      "menu:\n",
      "1. Garri and Soup(2000/plate)\n",
      "2. jollof Rice and chicken(2500/plate)\n"
     ]
    }
   ],
   "source": [
    "menu =\"\"\"menu:\n",
    "1. Garri and Soup(2000/plate)\n",
    "2. jollof Rice and chicken(2500/plate)\"\"\"\n",
    "print(menu)"
   ]
  },
  {
   "cell_type": "code",
   "execution_count": 11,
   "id": "3ef70993-8a5b-487c-a1dc-76c1bcf47026",
   "metadata": {},
   "outputs": [
    {
     "name": "stdout",
     "output_type": "stream",
     "text": [
      "menu:\n",
      "1. Garri and Soup(2000/plate)\n",
      "2. jollof Rice and chicken(2500/plate)\n"
     ]
    },
    {
     "name": "stdin",
     "output_type": "stream",
     "text": [
      "Choose 1 or 2: 2\n"
     ]
    },
    {
     "name": "stdout",
     "output_type": "stream",
     "text": [
      "You choose Rice and Chicken\n"
     ]
    }
   ],
   "source": [
    "menu =\"\"\"menu:\n",
    "1. Garri and Soup(2000/plate)\n",
    "2. jollof Rice and chicken(2500/plate)\"\"\"\n",
    "print(menu)\n",
    "choice_of_meal=input(\"Choose 1 or 2:\")\n",
    "if choice_of_meal==1:\n",
    "    print(\"You choose Garri and Soup\")\n",
    "else:\n",
    "    print(\"You choose Rice and Chicken\")"
   ]
  },
  {
   "cell_type": "markdown",
   "id": "0eefa9b7-3405-4ec8-ac74-dc766b3a101d",
   "metadata": {},
   "source": [
    "# Loops"
   ]
  },
  {
   "cell_type": "code",
   "execution_count": 13,
   "id": "069f34e1-f7fd-4433-a060-3f645b86ff61",
   "metadata": {},
   "outputs": [
    {
     "name": "stdin",
     "output_type": "stream",
     "text": [
      "Enter the human year:  6\n"
     ]
    },
    {
     "name": "stdout",
     "output_type": "stream",
     "text": [
      "37.0 Dog years\n"
     ]
    }
   ],
   "source": [
    "human_year=int(input(\"Enter the human year: \"))\n",
    "first_two_years=10.5*human_year\n",
    "human_year_more_than_2=10.5*2+(human_year-2)*4\n",
    "if human_year<=0:\n",
    "    print(\"Invalide input\")\n",
    "elif human_year<=2:\n",
    "    print(f\"{first_tow_years} Dog years\")\n",
    "else:\n",
    "    print(f\"{human_year_more_than_2} Dog years\")"
   ]
  },
  {
   "cell_type": "code",
   "execution_count": 15,
   "id": "ae97b360-e651-4c23-a060-95f012ccb4e3",
   "metadata": {},
   "outputs": [
    {
     "name": "stdin",
     "output_type": "stream",
     "text": [
      "Enter the human year:  2\n"
     ]
    },
    {
     "name": "stdout",
     "output_type": "stream",
     "text": [
      "21.0 Dog year\n"
     ]
    }
   ],
   "source": [
    "human_year=int(input(\"Enter the human year: \"))\n",
    "if human_year<=0:\n",
    "    print(\"Error\")\n",
    "first_two_human_years=10.5*2\n",
    "cal1=10.5*human_year\n",
    "if human_year<=2:\n",
    "    print(f\"{cal1} Dog year\")\n",
    "    cal2=first_two_human_years+4*(human_year-2)\n",
    "if human_year>2:\n",
    "    print(f\"{cal2} Dog years\")"
   ]
  },
  {
   "cell_type": "code",
   "execution_count": 16,
   "id": "509f82f8-d1bd-42c5-9594-d04f8b4a5129",
   "metadata": {},
   "outputs": [
    {
     "name": "stdin",
     "output_type": "stream",
     "text": [
      "Enter month:  Febuary\n"
     ]
    },
    {
     "name": "stdout",
     "output_type": "stream",
     "text": [
      "28 days or 29 days\n"
     ]
    }
   ],
   "source": [
    "month=input(\"Enter month: \").title()\n",
    "if(month==\"janualy\"\n",
    "  or month==\"March\"\n",
    "  or month==\"May\"\n",
    "  or month==\"July\"\n",
    "  or month==\"August\"\n",
    "  or month==\"October\"\n",
    "  or month==\"December\"):\n",
    "    print(\"31 Days\")\n",
    "elif month==\"Febuary\":\n",
    "    print(\"28 days or 29 days\")\n",
    "else:\n",
    "    print(\"31 days\")"
   ]
  },
  {
   "cell_type": "code",
   "execution_count": null,
   "id": "33d23835-686f-454f-b198-1dc79ca18927",
   "metadata": {},
   "outputs": [],
   "source": [
    "month=input(\"Enter Month: \").title()\n",
    "months_with_31_days=[\"January\", \"March\", \"May\" ]\n",
    "if (month in months_with_31_days):\n",
    "    print(\"31 days\")\n",
    "elif month==\"Febuary\":\n",
    "    print(\"28 days or 29 days\")\n",
    "else:\n",
    "    print(\"31 days\")"
   ]
  },
  {
   "cell_type": "code",
   "execution_count": null,
   "id": "4fed2f7b-b14b-4626-affd-2d8c50f170f1",
   "metadata": {},
   "outputs": [],
   "source": [
    "import this"
   ]
  },
  {
   "cell_type": "code",
   "execution_count": null,
   "id": "b1f6c8db-3b71-486f-ab89-24ea36212c57",
   "metadata": {},
   "outputs": [],
   "source": [
    "menu =\"Menu:\\n1. Garri and soup(2500/plate)\\n2. Jollof Rice and Chicken(4500/plate)\"\n",
    "print(menu)\n",
    "price_of_rice=4500\n",
    "price_of_Swallow=2500\n",
    "choice_of_meal=input(\"choose 1 or 2: \")\n",
    "if choice_of_meal==\"1\":\n",
    "    print(\"You chosed Garri and Soup\")\n",
    "else:\n",
    "    print(\"You chosed Rice and Chicken \")\n",
    "number_of_plates=int(input(\"Enter number of plates: \"))\n",
    "if choice_of_meal==\"1\":\n",
    "    total_cost = number_of_plates*price_of_swallow\n",
    "else:\n",
    "    total_cost = number_of_plates*price_of_rice\n",
    "print(f\"Total cost: {total_cost}\")\n",
    "if total_cost>=10000:\n",
    "    discount=0.1*total_cost\n",
    "    amount_to_pay=total_cost-discount\n",
    "    print(f\"you have a discount of {discount}\")\n",
    "    print(f\"Final Amount to pay is {amount_to_pay}\")"
   ]
  },
  {
   "cell_type": "code",
   "execution_count": null,
   "id": "7cc0f0db-6c09-49cc-9d00-710f65483e84",
   "metadata": {},
   "outputs": [],
   "source": [
    "print(\"this \\nis \\nhappening\")"
   ]
  },
  {
   "cell_type": "markdown",
   "id": "fcd7b222-c222-4a54-81da-e6582c3eebd8",
   "metadata": {},
   "source": [
    "# Loops"
   ]
  },
  {
   "cell_type": "code",
   "execution_count": null,
   "id": "f1e12204-84e5-4e0a-84a1-158bc9c8863a",
   "metadata": {},
   "outputs": [],
   "source": [
    "list(range(4))"
   ]
  },
  {
   "cell_type": "code",
   "execution_count": null,
   "id": "5dcb57ef-dc76-4b9a-ada8-cab813030d1f",
   "metadata": {},
   "outputs": [],
   "source": [
    "list(range(3))"
   ]
  },
  {
   "cell_type": "code",
   "execution_count": null,
   "id": "992bb2a7-591c-44e7-9223-bebadc91fcc9",
   "metadata": {},
   "outputs": [],
   "source": [
    "list(range(10))"
   ]
  },
  {
   "cell_type": "code",
   "execution_count": null,
   "id": "a25b3ff7-f4f4-4681-b245-1f0ee20fcbd1",
   "metadata": {},
   "outputs": [],
   "source": [
    "list(range(2,6))"
   ]
  },
  {
   "cell_type": "code",
   "execution_count": null,
   "id": "70a57027-791a-495c-91f0-3c40c64145aa",
   "metadata": {},
   "outputs": [],
   "source": [
    "list(range(2,10,3))"
   ]
  },
  {
   "cell_type": "code",
   "execution_count": null,
   "id": "b41954f1-0a4d-4e70-b55c-043a30ad6470",
   "metadata": {},
   "outputs": [],
   "source": [
    "print(\"Hello\")\n",
    "print(\"Hello\")\n",
    "print(\"Hello\")\n",
    "print(\"Hello\")\n",
    "print(\"Hello\")\n",
    "print(\"Hello\")\n",
    "print(\"Hello\")\n",
    "print(\"Hello\")\n",
    "print(\"Hello\")\n",
    "print(\"Hello\")"
   ]
  },
  {
   "cell_type": "code",
   "execution_count": null,
   "id": "8396d555-7325-4f58-80aa-448c7c7082d3",
   "metadata": {},
   "outputs": [],
   "source": [
    "for i in range(5):\n",
    "    print(\"Hello\")"
   ]
  },
  {
   "cell_type": "code",
   "execution_count": null,
   "id": "2637512a-5b47-45b3-90d1-ad2bb0fbbb7a",
   "metadata": {},
   "outputs": [],
   "source": [
    "for valentine in range(5):\n",
    "    print(valentine)"
   ]
  },
  {
   "cell_type": "code",
   "execution_count": null,
   "id": "6873b9e7-6881-4745-b061-5f9d07430d28",
   "metadata": {},
   "outputs": [],
   "source": [
    "for valentine in range(5):\n",
    "    print(valentine*3)"
   ]
  },
  {
   "cell_type": "code",
   "execution_count": null,
   "id": "cc23d978-6581-4f56-835a-756f83040375",
   "metadata": {},
   "outputs": [],
   "source": [
    "for number in range (101):\n",
    "    print(number*2)"
   ]
  },
  {
   "cell_type": "code",
   "execution_count": null,
   "id": "ab1d9a9d-e4f5-4a04-8591-788e9c8b2e73",
   "metadata": {},
   "outputs": [],
   "source": [
    "for number in range(0,101,2):\n",
    "    print(number)"
   ]
  },
  {
   "cell_type": "code",
   "execution_count": null,
   "id": "3de8ee4c-9fed-4f01-990d-125f05204691",
   "metadata": {},
   "outputs": [],
   "source": [
    "for number in range (101):\n",
    "    if number%2==0:\n",
    "        print(number)"
   ]
  },
  {
   "cell_type": "code",
   "execution_count": null,
   "id": "cfdfea8e-75a4-47a1-beeb-6ef55c9f0889",
   "metadata": {},
   "outputs": [],
   "source": [
    "for number in [3,5,4,354,52,42,3,45,3]:\n",
    "    if number%2==0:\n",
    "        print(number)"
   ]
  },
  {
   "cell_type": "code",
   "execution_count": null,
   "id": "56150432-39b4-4d52-934a-8ccf234705b3",
   "metadata": {},
   "outputs": [],
   "source": [
    "for i in range (5):\n",
    "    name = input(\"Enter your name:\").upper()\n",
    "    if name.strip().startswith(\"P\"):\n",
    "        continue\n",
    "    else:\n",
    "        print(\"You're not allowed in\")"
   ]
  },
  {
   "cell_type": "code",
   "execution_count": null,
   "id": "4051c428-75f1-40fe-84e8-dc4b25406398",
   "metadata": {},
   "outputs": [],
   "source": [
    "for i in range (5):\n",
    "    name = input(\"Enter your name:\").upper()\n",
    "    if name.strip().startswith(\"H\"):\n",
    "        continue\n",
    "    else:\n",
    "        print(\"You're not allowed in\")"
   ]
  },
  {
   "cell_type": "code",
   "execution_count": null,
   "id": "5903e37b-6e50-4b4e-a27d-0d5c3c3eb26c",
   "metadata": {},
   "outputs": [],
   "source": [
    "for i in range (10):\n",
    "    if i in [1,3,5,9]:\n",
    "        continue\n",
    "    else:\n",
    "        print(i)"
   ]
  },
  {
   "cell_type": "code",
   "execution_count": null,
   "id": "43a5a4ad-20b8-4773-8a2e-284093c7adc6",
   "metadata": {},
   "outputs": [],
   "source": [
    "for i in range (10):\n",
    "    if i in [1,3,5,9]:\n",
    "        break\n",
    "    else:\n",
    "        print(i)"
   ]
  },
  {
   "cell_type": "code",
   "execution_count": null,
   "id": "1492cbe5-fc0c-481f-a7a7-92120bc51480",
   "metadata": {},
   "outputs": [],
   "source": [
    "price =[4.95, 9.95, 14.95, 19.95, 24.95]\n",
    "for price in price:\n",
    "    discount = 0.6*price\n",
    "    new_price= price-discount\n",
    "    print(f\"{round(price,2)})\\t{round(discount,2)}\\t{round(new_price,2)}\")"
   ]
  },
  {
   "cell_type": "code",
   "execution_count": null,
   "id": "144d8d3e-d9bc-4c46-bba9-81af1753d989",
   "metadata": {},
   "outputs": [],
   "source": [
    "price =[4.95, 9.95, 14.95, 19.95, 24.95]\n",
    "for price in price:\n",
    "    discount = 0.6*price\n",
    "    new_price= price-discount\n",
    "    print(f\"Original price:{round(price,2)})\\tDiscount{round(discount,2)}\\tNew_price{round(new_price,2)}\")"
   ]
  },
  {
   "cell_type": "code",
   "execution_count": null,
   "id": "38ac8604-693a-41a3-9c63-3a98043dd0df",
   "metadata": {},
   "outputs": [],
   "source": [
    "price =[4.95, 9.95, 14.95, 19.95, 24.95]\n",
    "print(\"Price\\tDiscount\\tNew_Price\")\n",
    "for price in price:\n",
    "    discount = 0.6*price\n",
    "    new_price= price-discount\n",
    "    print(f\"{round(price,2)})\\t{round(discount,2)}\\t\\t{round(new_price,2)}\")"
   ]
  },
  {
   "cell_type": "markdown",
   "id": "9147f591-2a35-451b-865b-03b49b2a8c17",
   "metadata": {},
   "source": [
    "# week 2 day 3 (Loops Continue)"
   ]
  },
  {
   "cell_type": "markdown",
   "id": "18c38aba-0412-454c-a739-dd20fa852269",
   "metadata": {},
   "source": [
    "# while loops"
   ]
  },
  {
   "cell_type": "code",
   "execution_count": null,
   "id": "0a0a7200-8ed8-4fe1-98b2-d00afdf3c06f",
   "metadata": {},
   "outputs": [],
   "source": [
    "for i in range(5):\n",
    "    print(\"Hello\")"
   ]
  },
  {
   "cell_type": "code",
   "execution_count": null,
   "id": "df2d7710-8ae7-4626-8500-c1a86e1cfa9f",
   "metadata": {},
   "outputs": [],
   "source": [
    "# while cond:\n",
    "#    code_to_run_if_iss_true"
   ]
  },
  {
   "cell_type": "code",
   "execution_count": null,
   "id": "e49bbff6-e2c0-4c2f-ac63-b82e067fb1d0",
   "metadata": {},
   "outputs": [],
   "source": [
    "count=0\n",
    "while count<5:\n",
    "    print(\"Hello\")"
   ]
  },
  {
   "cell_type": "code",
   "execution_count": null,
   "id": "514eca5b-f74b-40e8-af29-668eede4fc17",
   "metadata": {},
   "outputs": [],
   "source": [
    "count=0\n",
    "while count<5:\n",
    "    print(\"Hello\")\n",
    "    count = count+1"
   ]
  },
  {
   "cell_type": "code",
   "execution_count": null,
   "id": "c102b149-4a55-4a15-98aa-4659e68d56a3",
   "metadata": {},
   "outputs": [],
   "source": [
    "count=0\n",
    "while True:\n",
    "    print(\"Hello\")\n",
    "    count = count+1\n",
    "    if count==5:\n",
    "        break"
   ]
  },
  {
   "cell_type": "code",
   "execution_count": null,
   "id": "df2f2cbb-65b0-413a-874f-c9bc23b23240",
   "metadata": {},
   "outputs": [],
   "source": [
    "count=0\n",
    "while True:\n",
    "    print(\"Hello\")\n",
    "    count = count+1\n",
    "    if count==5:\n",
    "        break\n",
    "        print(\"Hello\")"
   ]
  },
  {
   "cell_type": "code",
   "execution_count": null,
   "id": "c4597fba-0612-46b8-bd8f-e99c00bcb078",
   "metadata": {},
   "outputs": [],
   "source": [
    "total=0\n",
    "while True:\n",
    "    number=float(input(\"Enter a value: \"))\n",
    "    print(f\"You enter a\\an {number}\")\n",
    "    if number==0:\n",
    "        break\n",
    "        total  "
   ]
  },
  {
   "cell_type": "code",
   "execution_count": null,
   "id": "aa252197-b0b7-4106-aad8-2ec4b0a44f8b",
   "metadata": {},
   "outputs": [],
   "source": []
  },
  {
   "cell_type": "code",
   "execution_count": null,
   "id": "3918622c-1c7f-44d6-bf4d-ca7bd995b04c",
   "metadata": {},
   "outputs": [],
   "source": []
  },
  {
   "cell_type": "code",
   "execution_count": null,
   "id": "29a2af4c-48e3-4a92-a5f0-305ea7509d36",
   "metadata": {},
   "outputs": [],
   "source": []
  },
  {
   "cell_type": "code",
   "execution_count": null,
   "id": "230c5a32-342e-4c67-8855-b354afc99a1e",
   "metadata": {},
   "outputs": [],
   "source": []
  }
 ],
 "metadata": {
  "kernelspec": {
   "display_name": "Python 3 (ipykernel)",
   "language": "python",
   "name": "python3"
  },
  "language_info": {
   "codemirror_mode": {
    "name": "ipython",
    "version": 3
   },
   "file_extension": ".py",
   "mimetype": "text/x-python",
   "name": "python",
   "nbconvert_exporter": "python",
   "pygments_lexer": "ipython3",
   "version": "3.12.7"
  }
 },
 "nbformat": 4,
 "nbformat_minor": 5
}
